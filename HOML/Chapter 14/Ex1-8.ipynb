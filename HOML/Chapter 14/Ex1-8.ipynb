{
 "cells": [
  {
   "cell_type": "markdown",
   "metadata": {},
   "source": [
    "1. What are the advantages of a CNN over a fully connected DNN for image classification?\n",
    "    - CNN use far less parameters when the dataset are big (a node only connected to relative node in previous layer) -> faster to train, less overfitting, requires less training data\n",
    "    - A trained kernel of CNN can detect its learned feature anywhere in the image, not like DNN is fixed to thew spot -> generalize better\n",
    "    - DNN has no prior knowledge of how pixels are organized (eg: it doesn't know pixel\\[0\\]'s next to pixel\\[1\\] (CNN does know). -> lower layer of CNN can detect feature in small areas of images, higher layers can combine those to bigger features -> work well with most images."
   ]
  },
  {
   "cell_type": "markdown",
   "metadata": {},
   "source": [
    "2. Consider a CNN composed of three convolutional layers, each with 3 × 3 kernels, a stride of 2, and \"same\" padding. The lowest layer outputs 100 feature maps, the middle one outputs 200, and the top one outputs 400. The input images are RGB images of 200 × 300 pixels.\n",
    "\n",
    "    What is the total number of parameters in the CNN? If we are using 32-bit floats, at least how much RAM will this network require when making a prediction for a single instance? What about when training on a mini-batch of 50 images?\n",
    "\n",
    "    - Num params of first layer: 28 x 99\n",
    "        - Feature map size: 100 x 150\n",
    "            - $\\frac{(width - kernel\\_size) + 2*padding}{stride}+ 1 * \\frac{(height - kernel\\_size) + 2*padding}{stride}+1$\n",
    "            - $\\Leftrightarrow \\frac{(200 - 2) + 2*0}{2} + 1 * \\Leftrightarrow \\frac{(300 - 2) + 2*0}{2} + 1$\n",
    "            - 100 x 150\n",
    "        - Weights: 3 * 3 * 3 * 100 = 2700 \n",
    "        - Bias: 100\n",
    "        - Total: 2800\n",
    "    - Num params of 2nd layer:\n",
    "        - Weights: 3 * 3 * 100 * 200 = 180000\n",
    "        - Bias: 200\n",
    "        - Total: 180200\n",
    "    - Num params of 3rd layer:\n",
    "        - Weights: 3 * 3 * 200 * 400 = 720000\n",
    "        - Bias: 400\n",
    "        - Total: 720400\n",
    "    - Total params for CNN: 903,400"
   ]
  },
  {
   "cell_type": "code",
   "execution_count": null,
   "metadata": {},
   "outputs": [],
   "source": []
  }
 ],
 "metadata": {
  "kernelspec": {
   "display_name": "Python 3",
   "language": "python",
   "name": "python3"
  },
  "language_info": {
   "codemirror_mode": {
    "name": "ipython",
    "version": 3
   },
   "file_extension": ".py",
   "mimetype": "text/x-python",
   "name": "python",
   "nbconvert_exporter": "python",
   "pygments_lexer": "ipython3",
   "version": "3.6.9"
  }
 },
 "nbformat": 4,
 "nbformat_minor": 4
}
