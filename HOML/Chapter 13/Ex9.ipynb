{
  "nbformat": 4,
  "nbformat_minor": 0,
  "metadata": {
    "kernelspec": {
      "display_name": "Python 3",
      "language": "python",
      "name": "python3"
    },
    "language_info": {
      "codemirror_mode": {
        "name": "ipython",
        "version": 3
      },
      "file_extension": ".py",
      "mimetype": "text/x-python",
      "name": "python",
      "nbconvert_exporter": "python",
      "pygments_lexer": "ipython3",
      "version": "3.6.9"
    },
    "colab": {
      "name": "Ex9.ipynb",
      "provenance": []
    }
  },
  "cells": [
    {
      "cell_type": "markdown",
      "metadata": {
        "id": "jSA8W58IityJ",
        "colab_type": "text"
      },
      "source": [
        "9. Load the Fashion MNIST dataset (introduced in Chapter 10); split it into a training set, a validation set, and a test set; shuffle the training set; and save each dataset to multiple TFRecord files. Each record should be a serialized `Example` protobuf with two features: the serialized image (use `tf.io.serialize_tensor()` to serialize each image), and the label. Then use tf.data to create an efficient dataset for each set. Finally, use a Keras model to train these datasets, including a preprocessing layer to standardize each input feature. Try to make the input pipeline as efficient as possible, using TensorBoard to visualize profiling data."
      ]
    },
    {
      "cell_type": "code",
      "metadata": {
        "id": "U2GQ1Ha_ityK",
        "colab_type": "code",
        "colab": {}
      },
      "source": [
        "import os\n",
        "\n",
        "import sklearn\n",
        "import numpy as np\n",
        "import pandas as pd\n",
        "import tensorflow as tf\n",
        "from tensorflow import keras\n",
        "\n",
        "%matplotlib inline\n",
        "import matplotlib as mpl\n",
        "import matplotlib.pyplot as plt\n",
        "mpl.rc('axes', labelsize=14)\n",
        "mpl.rc('xtick', labelsize=12)\n",
        "mpl.rc('ytick', labelsize=12)"
      ],
      "execution_count": 0,
      "outputs": []
    },
    {
      "cell_type": "code",
      "metadata": {
        "id": "BOltjUbPityN",
        "colab_type": "code",
        "colab": {}
      },
      "source": [
        "# Save\n",
        "def show_image(image):\n",
        "    plt.imshow(image, cmap=\"binary\")\n",
        "    plt.axis('off')"
      ],
      "execution_count": 0,
      "outputs": []
    },
    {
      "cell_type": "code",
      "metadata": {
        "id": "56HHq9lgityQ",
        "colab_type": "code",
        "colab": {
          "base_uri": "https://localhost:8080/",
          "height": 153
        },
        "outputId": "c3401b97-fc34-43cd-a386-829a09f15d85"
      },
      "source": [
        "mnist = keras.datasets.fashion_mnist\n",
        "(X_train_full, y_train_full), (X_test, y_test) = mnist.load_data()\n",
        "X_valid, X_train = X_train_full[:5000] / 255., X_train_full[5000:] / 255.\n",
        "y_valid, y_train = y_train_full[:5000], y_train_full[5000:]\n",
        "X_test = X_test / 255."
      ],
      "execution_count": 3,
      "outputs": [
        {
          "output_type": "stream",
          "text": [
            "Downloading data from https://storage.googleapis.com/tensorflow/tf-keras-datasets/train-labels-idx1-ubyte.gz\n",
            "32768/29515 [=================================] - 0s 0us/step\n",
            "Downloading data from https://storage.googleapis.com/tensorflow/tf-keras-datasets/train-images-idx3-ubyte.gz\n",
            "26427392/26421880 [==============================] - 0s 0us/step\n",
            "Downloading data from https://storage.googleapis.com/tensorflow/tf-keras-datasets/t10k-labels-idx1-ubyte.gz\n",
            "8192/5148 [===============================================] - 0s 0us/step\n",
            "Downloading data from https://storage.googleapis.com/tensorflow/tf-keras-datasets/t10k-images-idx3-ubyte.gz\n",
            "4423680/4422102 [==============================] - 0s 0us/step\n"
          ],
          "name": "stdout"
        }
      ]
    },
    {
      "cell_type": "code",
      "metadata": {
        "id": "XXT9ZnBEityS",
        "colab_type": "code",
        "colab": {
          "base_uri": "https://localhost:8080/",
          "height": 248
        },
        "outputId": "fffb6502-e826-448c-915a-8d0d9b01b97e"
      },
      "source": [
        "show_image(X_train[0])"
      ],
      "execution_count": 4,
      "outputs": [
        {
          "output_type": "display_data",
          "data": {
            "image/png": "[encoded data removed]",
            "text/plain": [
              "<Figure size 432x288 with 1 Axes>"
            ]
          },
          "metadata": {
            "tags": [],
            "needs_background": "light"
          }
        }
      ]
    },
    {
      "cell_type": "code",
      "metadata": {
        "id": "RgPBPSWeityW",
        "colab_type": "code",
        "colab": {}
      },
      "source": [
        "train_set = tf.data.Dataset.from_tensor_slices((X_train, y_train)).shuffle(buffer_size=1000)\n",
        "valid_set = tf.data.Dataset.from_tensor_slices((X_valid, y_valid))\n",
        "test_set = tf.data.Dataset.from_tensor_slices((X_test, y_test))"
      ],
      "execution_count": 0,
      "outputs": []
    },
    {
      "cell_type": "code",
      "metadata": {
        "id": "SWWqSi1zityY",
        "colab_type": "code",
        "colab": {}
      },
      "source": [
        "from tensorflow.train import BytesList, FloatList, Int64List\n",
        "from tensorflow.train import Feature, Features, Example"
      ],
      "execution_count": 0,
      "outputs": []
    },
    {
      "cell_type": "code",
      "metadata": {
        "id": "Qx19765OjN74",
        "colab_type": "code",
        "colab": {}
      },
      "source": [
        "def create_example(image, label):\n",
        "    data = tf.io.serialize_tensor(image)\n",
        "    return Example(\n",
        "      features=Features(\n",
        "          feature={\n",
        "              \"image\": Feature(bytes_list=BytesList(value=[data.numpy()])),\n",
        "              \"label\": Feature(int64_list=Int64List(value=[label]))\n",
        "          }\n",
        "      )\n",
        "  )\n"
      ],
      "execution_count": 0,
      "outputs": []
    },
    {
      "cell_type": "code",
      "metadata": {
        "id": "a8Re7Jdoityf",
        "colab_type": "code",
        "colab": {}
      },
      "source": [
        "from contextlib import ExitStack\n",
        "\n",
        "def split_data_to_tfrecord(dataset, base_name, num_files=10):\n",
        "    paths = [\"{}.tfrecord-{:05d}-of-{:05d}\".format(base_name, index, num_files)\n",
        "             for index in range(num_files)]\n",
        "\n",
        "    with ExitStack() as stack:\n",
        "      writers = [stack.enter_context(tf.io.TFRecordWriter(path)) for path in paths]\n",
        "      for i, (X, y) in dataset.enumerate():\n",
        "        file_no = i % num_files\n",
        "        example = create_example(X, y)\n",
        "        writers[file_no].write(example.SerializeToString())"
      ],
      "execution_count": 0,
      "outputs": []
    },
    {
      "cell_type": "code",
      "metadata": {
        "id": "zQAB6E0tityh",
        "colab_type": "code",
        "colab": {}
      },
      "source": [
        "split_data_to_tfrecord(train_set, \"train_set\")"
      ],
      "execution_count": 0,
      "outputs": []
    },
    {
      "cell_type": "code",
      "metadata": {
        "id": "NLWV3Bi4ityj",
        "colab_type": "code",
        "colab": {}
      },
      "source": [
        "split_data_to_tfrecord(valid_set, \"valid_set\")"
      ],
      "execution_count": 0,
      "outputs": []
    },
    {
      "cell_type": "code",
      "metadata": {
        "id": "Z00o0amYlzko",
        "colab_type": "code",
        "colab": {}
      },
      "source": [
        "split_data_to_tfrecord(test_set, \"test_set\")"
      ],
      "execution_count": 0,
      "outputs": []
    },
    {
      "cell_type": "code",
      "metadata": {
        "id": "exAotUIAityl",
        "colab_type": "code",
        "colab": {}
      },
      "source": [
        "feature_description = {\n",
        "    \"image\": tf.io.VarLenFeature(tf.string),\n",
        "    \"label\": tf.io.FixedLenFeature([], tf.int64, default_value=0)\n",
        "}"
      ],
      "execution_count": 0,
      "outputs": []
    },
    {
      "cell_type": "code",
      "metadata": {
        "id": "hYSCOcUOityo",
        "colab_type": "code",
        "colab": {}
      },
      "source": [
        "dataset = tf.data.TFRecordDataset([\"train_set_1.tfrecord\"]).batch(10)\n",
        "for serialized_examples in dataset:\n",
        "    parsed_examples = tf.io.parse_example(serialized_examples, feature_description)"
      ],
      "execution_count": 0,
      "outputs": []
    },
    {
      "cell_type": "code",
      "metadata": {
        "id": "xqT2_yjYityq",
        "colab_type": "code",
        "colab": {},
        "outputId": "21bedeca-a9c4-4e40-901c-33c644865286"
      },
      "source": [
        "parsed_examples"
      ],
      "execution_count": 0,
      "outputs": [
        {
          "output_type": "execute_result",
          "data": {
            "text/plain": [
              "{'image': <tensorflow.python.framework.sparse_tensor.SparseTensor at 0x7f74506694a8>,\n",
              " 'label': <tf.Tensor: shape=(10,), dtype=int64, numpy=array([0, 2, 3, 8, 7, 6, 1, 1, 0, 5])>}"
            ]
          },
          "metadata": {
            "tags": []
          },
          "execution_count": 23
        }
      ]
    },
    {
      "cell_type": "code",
      "metadata": {
        "id": "6UgUFBg1itys",
        "colab_type": "code",
        "colab": {}
      },
      "source": [
        "decoded_img = tf.io.parse_tensor(parsed_examples[\"image\"].values[0], out_type=tf.double)"
      ],
      "execution_count": 0,
      "outputs": []
    },
    {
      "cell_type": "code",
      "metadata": {
        "id": "LmcIwC4rityu",
        "colab_type": "code",
        "colab": {},
        "outputId": "b7081970-afb9-44ec-ee81-1e6a0c11ceeb"
      },
      "source": [
        "show_image(decoded_img)"
      ],
      "execution_count": 0,
      "outputs": [
        {
          "output_type": "display_data",
          "data": {
            "image/png": "[encoded data removed]",
            "text/plain": [
              "<Figure size 432x288 with 1 Axes>"
            ]
          },
          "metadata": {
            "tags": [],
            "needs_background": "light"
          }
        }
      ]
    },
    {
      "cell_type": "code",
      "metadata": {
        "id": "MR_x4D4Aityw",
        "colab_type": "code",
        "colab": {}
      },
      "source": [
        ""
      ],
      "execution_count": 0,
      "outputs": []
    }
  ]
}